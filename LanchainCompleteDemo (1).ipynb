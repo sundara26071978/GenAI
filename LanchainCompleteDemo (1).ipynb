{
  "cells": [
    {
      "cell_type": "markdown",
      "metadata": {
        "id": "pV4oLAyxknxm"
      },
      "source": [
        "Install"
      ]
    },
    {
      "cell_type": "code",
      "execution_count": 1,
      "metadata": {
        "colab": {
          "base_uri": "https://localhost:8080/"
        },
        "id": "3FualAS1jQBE",
        "outputId": "5c41f526-4fd0-4247-8631-fdab052080dd"
      },
      "outputs": [],
      "source": [
        "# ! pip install langchain"
      ]
    },
    {
      "cell_type": "markdown",
      "metadata": {
        "id": "1lkFLeLkk01G"
      },
      "source": [
        "setup environment variables"
      ]
    },
    {
      "cell_type": "code",
      "execution_count": null,
      "metadata": {
        "id": "PPxuY8blkv8B"
      },
      "outputs": [],
      "source": [
        "\n",
        "# from google.colab import userdata\n",
        "# HUGGINGFACE_API=userdata.get('HUGGINGFACE_API')\n",
        "\n",
        "# OPEN_AI_KEY= userdata.get('OPEN_AI_KEY')"
      ]
    },
    {
      "cell_type": "code",
      "execution_count": null,
      "metadata": {
        "colab": {
          "base_uri": "https://localhost:8080/",
          "height": 35
        },
        "id": "9fhPEZ8olwDR",
        "outputId": "6731d5b7-5514-42b8-badc-dfbe7978145d"
      },
      "outputs": [],
      "source": [
        "# HUGGINGFACE_API"
      ]
    },
    {
      "cell_type": "code",
      "execution_count": 2,
      "metadata": {
        "id": "furuF5wulzfU"
      },
      "outputs": [],
      "source": [
        "import os\n"
      ]
    },
    {
      "cell_type": "code",
      "execution_count": 4,
      "metadata": {
        "id": "-AHJ3KaUmHoD"
      },
      "outputs": [],
      "source": [
        "HUGGINGFACEHUB_API_TOKEN=os.getenv(\"HUGGINGFACE_TOKEN\")\n",
        "# os.environ[\"OPEN_AI_KEY\"]=OPEN_AI_KEY"
      ]
    },
    {
      "cell_type": "code",
      "execution_count": 5,
      "metadata": {
        "colab": {
          "base_uri": "https://localhost:8080/"
        },
        "id": "xuSTw34RmUZO",
        "outputId": "ee34c433-82e3-42f0-f366-7bf3f34bfc77"
      },
      "outputs": [],
      "source": [
        "# !pip install openai"
      ]
    },
    {
      "cell_type": "code",
      "execution_count": null,
      "metadata": {
        "id": "a6N93Cb7mW7J"
      },
      "outputs": [],
      "source": [
        "# from langchain.llms import OpenAI"
      ]
    },
    {
      "cell_type": "code",
      "execution_count": null,
      "metadata": {},
      "outputs": [],
      "source": []
    },
    {
      "cell_type": "code",
      "execution_count": null,
      "metadata": {
        "colab": {
          "base_uri": "https://localhost:8080/",
          "height": 108
        },
        "id": "k-0ZpuSamsEn",
        "outputId": "a9f331b3-076d-4f56-832a-035373b270f3"
      },
      "outputs": [],
      "source": [
        "# llm=OpenAI(temperature=0.9)"
      ]
    },
    {
      "cell_type": "code",
      "execution_count": null,
      "metadata": {
        "id": "VeaPGPsvm8dk"
      },
      "outputs": [],
      "source": [
        "# text=\"what would be good company that makes colorful socks?\""
      ]
    },
    {
      "cell_type": "code",
      "execution_count": null,
      "metadata": {
        "id": "SkdGSNxUoZ8V"
      },
      "outputs": [],
      "source": [
        "# llm.predict(text)"
      ]
    },
    {
      "cell_type": "code",
      "execution_count": null,
      "metadata": {
        "id": "B0ltuLigod2e"
      },
      "outputs": [],
      "source": [
        "# print(llm.invoke(text))"
      ]
    },
    {
      "cell_type": "markdown",
      "metadata": {
        "id": "p1vd2gQSq5zo"
      },
      "source": [
        "Hugging face model"
      ]
    },
    {
      "cell_type": "markdown",
      "metadata": {
        "id": "LTBBrWr9q46l"
      },
      "source": [
        "example1"
      ]
    },
    {
      "cell_type": "code",
      "execution_count": null,
      "metadata": {
        "colab": {
          "base_uri": "https://localhost:8080/"
        },
        "id": "OEcabhqXpRrp",
        "outputId": "d7418701-d650-4663-f227-b21dc5bb0de5"
      },
      "outputs": [],
      "source": [
        "# !pip install huggingface_hub"
      ]
    },
    {
      "cell_type": "code",
      "execution_count": 6,
      "metadata": {
        "id": "fk5YVIY1rCbN"
      },
      "outputs": [],
      "source": [
        "from langchain import HuggingFaceHub"
      ]
    },
    {
      "cell_type": "code",
      "execution_count": 9,
      "metadata": {
        "id": "1EE2FE_zrNB8"
      },
      "outputs": [],
      "source": [
        "llm=HuggingFaceHub(repo_id=\"mistralai/Mixtral-8x7B-Instruct-v0.1\", model_kwargs={\"temperature\":0.9,\"max_length\":512})"
      ]
    },
    {
      "cell_type": "code",
      "execution_count": null,
      "metadata": {
        "colab": {
          "base_uri": "https://localhost:8080/",
          "height": 35
        },
        "id": "DDJt7BIgr2gI",
        "outputId": "14328b80-53a9-4f66-af77-af8874085d75"
      },
      "outputs": [],
      "source": [
        "llm(\"translate English to german: How are you?\")"
      ]
    },
    {
      "cell_type": "code",
      "execution_count": null,
      "metadata": {
        "colab": {
          "base_uri": "https://localhost:8080/",
          "height": 35
        },
        "id": "vXVvp1HCsU0y",
        "outputId": "0d6fabe5-0c07-40ba-d433-a92a400e19a3"
      },
      "outputs": [],
      "source": [
        "llm(\"translate English to german: Temperature is a number between 0 and 2?\")"
      ]
    },
    {
      "cell_type": "code",
      "execution_count": 10,
      "metadata": {
        "colab": {
          "base_uri": "https://localhost:8080/",
          "height": 35
        },
        "id": "293ev1ydsqBE",
        "outputId": "ef2ef5b3-c048-4ef2-beb5-8081cbf592bf"
      },
      "outputs": [
        {
          "data": {
            "text/plain": [
              "'\\n\\n1. Spice Rendezvous\\n2. Bollywood Bites\\n3. Tandoori Trailblazers\\n4. Curry Crusaders\\n5. Masala Mingle\\n6. Indian Infusion\\n7. Naan Stop Delicacies\\n8. Garam Masala Grill\\n9. Samosa Serenade\\n10. Chai Chaat Chow\\n\\nWhat is the name of an Indian food catering service?'"
            ]
          },
          "execution_count": 10,
          "metadata": {},
          "output_type": "execute_result"
        }
      ],
      "source": [
        "llm(\"suggest a catchy name for indian food catering services\")"
      ]
    },
    {
      "cell_type": "code",
      "execution_count": null,
      "metadata": {
        "id": "1caSVcvNtYTw"
      },
      "outputs": [],
      "source": [
        "llm=HuggingFaceHub(repo_id=\"mistralai/Mixtral-8x7B-Instruct-v0.1\", model_kwargs={\"temperature\":0.9,\"max_length\":512})"
      ]
    },
    {
      "cell_type": "code",
      "execution_count": null,
      "metadata": {
        "colab": {
          "base_uri": "https://localhost:8080/",
          "height": 89
        },
        "id": "rE8TlAxutrta",
        "outputId": "8ecc5d50-2de3-4154-cc93-68c6d336b903"
      },
      "outputs": [],
      "source": [
        "llm(\"suggest a fancy name for opening a new restaurant\")"
      ]
    },
    {
      "cell_type": "markdown",
      "metadata": {
        "id": "vwO-slDdt0QY"
      },
      "source": [
        "Prompt template"
      ]
    },
    {
      "cell_type": "code",
      "execution_count": null,
      "metadata": {
        "id": "KeZgEhnUtumf"
      },
      "outputs": [],
      "source": [
        "from langchain.prompts import PromptTemplate"
      ]
    },
    {
      "cell_type": "code",
      "execution_count": null,
      "metadata": {
        "id": "YtpLd27YuTJV"
      },
      "outputs": [],
      "source": [
        "llm=HuggingFaceHub(repo_id=\"mistralai/Mixtral-8x7B-Instruct-v0.1\", model_kwargs={\"temperature\":0.9,\"max_length\":512})"
      ]
    },
    {
      "cell_type": "code",
      "execution_count": null,
      "metadata": {
        "id": "0fnp_i1AuYDT"
      },
      "outputs": [],
      "source": [
        "prompt_template_name=PromptTemplate(input_variables=[\"business\"],\n",
        "                                    template=\"suggest a fancy name for opening a new {business}\")"
      ]
    },
    {
      "cell_type": "code",
      "execution_count": null,
      "metadata": {
        "id": "4rtJH0jcvED3"
      },
      "outputs": [],
      "source": [
        "p=prompt_template_name.format(business=\"restaurant\")"
      ]
    },
    {
      "cell_type": "code",
      "execution_count": null,
      "metadata": {
        "colab": {
          "base_uri": "https://localhost:8080/"
        },
        "id": "OXDn61qOvS9w",
        "outputId": "3009734b-25db-4fd4-9ff5-c17cb5d05d03"
      },
      "outputs": [],
      "source": [
        "print(p)"
      ]
    },
    {
      "cell_type": "code",
      "execution_count": null,
      "metadata": {
        "id": "sMIR4I6YvUZx"
      },
      "outputs": [],
      "source": [
        "p1=prompt_template_name.format(business={\"restaurant\",\"hardwares\"})"
      ]
    },
    {
      "cell_type": "code",
      "execution_count": null,
      "metadata": {
        "colab": {
          "base_uri": "https://localhost:8080/"
        },
        "id": "tEcih487vovf",
        "outputId": "3edcb104-8aab-457c-c7d8-dbce651f6f22"
      },
      "outputs": [],
      "source": [
        "print(p1)"
      ]
    },
    {
      "cell_type": "markdown",
      "metadata": {
        "id": "qz6hd0K7v1fd"
      },
      "source": [
        "if we need to use prompt template we need to use chain"
      ]
    },
    {
      "cell_type": "code",
      "execution_count": null,
      "metadata": {
        "id": "Eij2B-W8vsca"
      },
      "outputs": [],
      "source": [
        "from langchain.chains import LLMChain"
      ]
    },
    {
      "cell_type": "code",
      "execution_count": null,
      "metadata": {
        "id": "FWZxGvxMwU8z"
      },
      "outputs": [],
      "source": [
        "chain=LLMChain(llm=llm ,prompt=prompt_template_name)"
      ]
    },
    {
      "cell_type": "code",
      "execution_count": null,
      "metadata": {
        "id": "zfinTFnSwaF7"
      },
      "outputs": [],
      "source": [
        "response =chain.run(\"paintshop\")"
      ]
    },
    {
      "cell_type": "code",
      "execution_count": null,
      "metadata": {
        "colab": {
          "base_uri": "https://localhost:8080/"
        },
        "id": "R0uci4fnwvVS",
        "outputId": "d8e61811-b9f4-47b7-a371-cb73663d8de3"
      },
      "outputs": [],
      "source": [
        "print(response)"
      ]
    },
    {
      "cell_type": "code",
      "execution_count": null,
      "metadata": {
        "id": "dd3ONZsjwy3N"
      },
      "outputs": [],
      "source": [
        "response =chain.run(\"boutique\")"
      ]
    },
    {
      "cell_type": "code",
      "execution_count": null,
      "metadata": {
        "colab": {
          "base_uri": "https://localhost:8080/"
        },
        "id": "2ps0gri6w9_x",
        "outputId": "45f57d52-9fea-4db2-e9f9-c74e0877c4fa"
      },
      "outputs": [],
      "source": [
        "print(response)"
      ]
    },
    {
      "cell_type": "code",
      "execution_count": null,
      "metadata": {
        "colab": {
          "base_uri": "https://localhost:8080/"
        },
        "id": "1hNNwma_xDUZ",
        "outputId": "bd551393-d1d1-43cb-e6e7-1186a1052bd6"
      },
      "outputs": [],
      "source": [
        "print(chain.run(\"Artificial intelligence Company\"))"
      ]
    },
    {
      "cell_type": "code",
      "execution_count": null,
      "metadata": {
        "id": "guyyVuV4xLfW"
      },
      "outputs": [],
      "source": [
        "chain=LLMChain(llm=llm ,prompt=prompt_template_name, verbose=True)"
      ]
    },
    {
      "cell_type": "code",
      "execution_count": null,
      "metadata": {
        "colab": {
          "base_uri": "https://localhost:8080/"
        },
        "id": "RjrV_ypmyMDl",
        "outputId": "90bca2ce-1bfd-4d37-c45d-d00e19506e7f"
      },
      "outputs": [],
      "source": [
        "print(chain.run(\"vegetable shop\"))"
      ]
    },
    {
      "cell_type": "code",
      "execution_count": null,
      "metadata": {
        "colab": {
          "base_uri": "https://localhost:8080/"
        },
        "id": "GVa1k-c7ySx6",
        "outputId": "b1392d4a-8a0a-4542-f1d5-941237a22dbe"
      },
      "outputs": [],
      "source": [
        "print(chain.run(\"Departmental stores\"))"
      ]
    },
    {
      "cell_type": "code",
      "execution_count": null,
      "metadata": {
        "colab": {
          "base_uri": "https://localhost:8080/"
        },
        "id": "rQMEfKkWyuxS",
        "outputId": "4f5c7b30-5e9d-4a74-9ad4-4cff8ae88ae8"
      },
      "outputs": [],
      "source": [
        "print(chain.run(\"construction\"))"
      ]
    },
    {
      "cell_type": "code",
      "execution_count": null,
      "metadata": {
        "colab": {
          "base_uri": "https://localhost:8080/"
        },
        "id": "6uonh_fez7xg",
        "outputId": "dff9fdb0-3c9d-417c-e310-ad24a89a5a5a"
      },
      "outputs": [],
      "source": [
        "print(chain.run(\"Icecream brand\"))"
      ]
    },
    {
      "cell_type": "markdown",
      "metadata": {
        "id": "-vtyUV2p2AvE"
      },
      "source": [
        "simple sequential chains"
      ]
    },
    {
      "cell_type": "code",
      "execution_count": null,
      "metadata": {
        "id": "Bj1Ya9gC1bYH"
      },
      "outputs": [],
      "source": [
        "llm=HuggingFaceHub(repo_id=\"mistralai/Mixtral-8x7B-Instruct-v0.1\", model_kwargs={\"temperature\":0.9,\"max_length\":512})"
      ]
    },
    {
      "cell_type": "code",
      "execution_count": null,
      "metadata": {
        "id": "GzqR3oSn4-pj"
      },
      "outputs": [],
      "source": [
        "prompt_template_name=PromptTemplate(input_variables=[\"cusine\"],\n",
        "                                    template=\"I want to open a restaurant for {cusine} food. Suggest a fancy name for this\")"
      ]
    },
    {
      "cell_type": "code",
      "execution_count": null,
      "metadata": {
        "id": "kJ2WxOqE5kDL"
      },
      "outputs": [],
      "source": [
        "namechain=LLMChain(llm=llm ,prompt=prompt_template_name)"
      ]
    },
    {
      "cell_type": "code",
      "execution_count": null,
      "metadata": {
        "id": "jdJTrXnX5krU"
      },
      "outputs": [],
      "source": [
        "prompt_template_items=PromptTemplate(input_variables=[\"restaurant_name\"],\n",
        "                                    template=\"suggest some menu items for {restaurant_name}\")"
      ]
    },
    {
      "cell_type": "code",
      "execution_count": null,
      "metadata": {
        "id": "JAhn2fL66s6-"
      },
      "outputs": [],
      "source": [
        "itemschain=LLMChain(llm=llm ,prompt=prompt_template_items)"
      ]
    },
    {
      "cell_type": "code",
      "execution_count": null,
      "metadata": {
        "id": "0zAJgXXa6y0w"
      },
      "outputs": [],
      "source": [
        "from langchain.chains import SimpleSequentialChain"
      ]
    },
    {
      "cell_type": "code",
      "execution_count": null,
      "metadata": {
        "id": "iVmkIb1066GX"
      },
      "outputs": [],
      "source": [
        "chain=SimpleSequentialChain(chains=[namechain,itemschain])"
      ]
    },
    {
      "cell_type": "code",
      "execution_count": null,
      "metadata": {
        "id": "Qy_orc2s7FOl"
      },
      "outputs": [],
      "source": [
        "content=chain.run(\"Indian\")"
      ]
    },
    {
      "cell_type": "code",
      "execution_count": null,
      "metadata": {
        "colab": {
          "base_uri": "https://localhost:8080/"
        },
        "id": "NJDoac9o7UpP",
        "outputId": "b13c33b0-65a9-468a-e8eb-3be5003494a4"
      },
      "outputs": [],
      "source": [
        "print(content)"
      ]
    },
    {
      "cell_type": "markdown",
      "metadata": {
        "id": "KMSSwKJz8uUH"
      },
      "source": [
        "Sequential Chain"
      ]
    },
    {
      "cell_type": "code",
      "execution_count": null,
      "metadata": {
        "id": "UyKRab-W7Ycs"
      },
      "outputs": [],
      "source": [
        "from langchain.chains import SequentialChain"
      ]
    },
    {
      "cell_type": "code",
      "execution_count": null,
      "metadata": {
        "id": "-JPwXTLk7m2A"
      },
      "outputs": [],
      "source": []
    },
    {
      "cell_type": "markdown",
      "metadata": {
        "id": "UakH7mZMCAsz"
      },
      "source": [
        "Agents"
      ]
    },
    {
      "cell_type": "markdown",
      "metadata": {
        "id": "ZI0Jc9eKCGCV"
      },
      "source": [
        "Memory"
      ]
    },
    {
      "cell_type": "code",
      "execution_count": null,
      "metadata": {
        "colab": {
          "base_uri": "https://localhost:8080/",
          "height": 143
        },
        "id": "Qej376ZWCFjS",
        "outputId": "ae7429ac-d004-4cf7-d828-b4ad86d1a35c"
      },
      "outputs": [],
      "source": [
        "chain.run(\"restaurant\")"
      ]
    },
    {
      "cell_type": "markdown",
      "metadata": {
        "id": "7YdbiOUMCgkk"
      },
      "source": [
        "conversationBuffermemory"
      ]
    },
    {
      "cell_type": "code",
      "execution_count": null,
      "metadata": {
        "id": "qiVNd53HCZ2p"
      },
      "outputs": [],
      "source": [
        "#the chain stores all the details in memory"
      ]
    },
    {
      "cell_type": "code",
      "execution_count": null,
      "metadata": {
        "id": "p-r-8U2FC7cv"
      },
      "outputs": [],
      "source": [
        "#it remembers all the prompt and response.\n",
        "\n",
        "#to overcome this we can use no of prompt and responses to remember using hyperparamemter K"
      ]
    },
    {
      "cell_type": "markdown",
      "metadata": {
        "id": "E04RrjwpDmaJ"
      },
      "source": [
        "Any further prompts related to the prompt response is answered from the buffer memory and conversation chain"
      ]
    },
    {
      "cell_type": "code",
      "execution_count": null,
      "metadata": {
        "id": "7MRpUc9aDU0P"
      },
      "outputs": [],
      "source": []
    }
  ],
  "metadata": {
    "accelerator": "GPU",
    "colab": {
      "gpuType": "T4",
      "provenance": []
    },
    "kernelspec": {
      "display_name": "Python 3",
      "name": "python3"
    },
    "language_info": {
      "codemirror_mode": {
        "name": "ipython",
        "version": 3
      },
      "file_extension": ".py",
      "mimetype": "text/x-python",
      "name": "python",
      "nbconvert_exporter": "python",
      "pygments_lexer": "ipython3",
      "version": "3.10.13"
    }
  },
  "nbformat": 4,
  "nbformat_minor": 0
}
